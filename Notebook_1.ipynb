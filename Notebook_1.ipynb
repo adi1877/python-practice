{
 "cells": [
  {
   "cell_type": "code",
   "execution_count": 51,
   "id": "2f378743",
   "metadata": {},
   "outputs": [
    {
     "name": "stdout",
     "output_type": "stream",
     "text": [
      "7\n",
      "4\n"
     ]
    }
   ],
   "source": [
    "a=4\n",
    "b=a\n",
    "a=7\n",
    "print(a)\n",
    "print(b)\n",
    "\n",
    "#floor divison operator (//) gives quotient and module operator(%) gives remainder\n",
    "#to find type of anyting use type()"
   ]
  },
  {
   "cell_type": "code",
   "execution_count": 8,
   "id": "a6f1ddb0",
   "metadata": {},
   "outputs": [
    {
     "name": "stdout",
     "output_type": "stream",
     "text": [
      "positive\n"
     ]
    }
   ],
   "source": [
    "#The statements within same indentation forms a suite.\n",
    "\n",
    "#if-elif-else statement:\n",
    "x=32\n",
    "if (x>0):\n",
    "    print(\"positive\")\n",
    "elif (x==0):\n",
    "     print(\"zero\")\n",
    "else:\n",
    "    print(\"negative\")"
   ]
  },
  {
   "cell_type": "code",
   "execution_count": 12,
   "id": "ce922c65",
   "metadata": {},
   "outputs": [
    {
     "name": "stdout",
     "output_type": "stream",
     "text": [
      "91\n",
      "Grade A\n"
     ]
    }
   ],
   "source": [
    "y=input()\n",
    "y1=int(y)\n",
    "if (y1>90):\n",
    "    print(\"Grade A\")\n",
    "elif(y1>60):\n",
    "    print(\"Grade B\")\n",
    "else:\n",
    "    print(\"Grade F\")"
   ]
  },
  {
   "cell_type": "code",
   "execution_count": 11,
   "id": "876271f1",
   "metadata": {},
   "outputs": [
    {
     "name": "stdout",
     "output_type": "stream",
     "text": [
      "1\n",
      "2\n",
      "3\n",
      "\n",
      "0\n",
      "1\n",
      "2\n",
      "3\n"
     ]
    }
   ],
   "source": [
    "#for loop\n",
    "for i in range(1,4):\n",
    "    print(i)\n",
    "print()\n",
    "for i in range(4):\n",
    "    print(i)\n",
    "#range function excludes last position (here 4) and starts with 0 if first argument is not specified"
   ]
  },
  {
   "cell_type": "code",
   "execution_count": 26,
   "id": "b6c8a39a",
   "metadata": {},
   "outputs": [
    {
     "name": "stdout",
     "output_type": "stream",
     "text": [
      "2  4  6  8  10  \n",
      "1 A\n",
      "1 B\n",
      "1 C\n",
      "2 A\n",
      "2 B\n",
      "2 C\n"
     ]
    }
   ],
   "source": [
    "for x in range(2,11,2):\n",
    "    print(x,end='  ')  #prints adjecant with space specified in end\n",
    "print()\n",
    "for outer in range(1,3):\n",
    "    for inner in \"ABC\":\n",
    "        print(outer,inner)\n",
    "    \n",
    "#print(x)              #prints one below other "
   ]
  },
  {
   "cell_type": "code",
   "execution_count": 24,
   "id": "58375485",
   "metadata": {},
   "outputs": [
    {
     "name": "stdout",
     "output_type": "stream",
     "text": [
      "K\n",
      "t\n",
      "k\n"
     ]
    }
   ],
   "source": [
    "m=\"Ketaki\"\n",
    "for character in m[::2]:\n",
    "    print(character)\n",
    "# : considers all positions\n",
    "\n",
    "m.find(\"k\") #gives index of k in m\n",
    "#m.startswith()\n",
    "#m.endswith()\n",
    "#m.islower()\n",
    "#m.isupper()\n",
    "#m.isnumeric()\n",
    "#m.isalnum()\n",
    "#m.isalpha()\n",
    "#m.replace(word,word by which it first arg is replaced)\n",
    "#m.split(' ')"
   ]
  },
  {
   "cell_type": "code",
   "execution_count": 34,
   "id": "7323c2ac",
   "metadata": {},
   "outputs": [
    {
     "name": "stdout",
     "output_type": "stream",
     "text": [
      "Number is 2\n"
     ]
    }
   ],
   "source": [
    "num=0\n",
    "for num in range(4):\n",
    "    if num==2:\n",
    "        break\n",
    "print(\"Number is \"+str(num))"
   ]
  },
  {
   "cell_type": "code",
   "execution_count": null,
   "id": "ce57b15c",
   "metadata": {},
   "outputs": [],
   "source": [
    "#continue and pass statement"
   ]
  },
  {
   "cell_type": "code",
   "execution_count": 51,
   "id": "334e52fa",
   "metadata": {},
   "outputs": [
    {
     "data": {
      "text/plain": [
       "[3, 2, 1]"
      ]
     },
     "execution_count": 51,
     "metadata": {},
     "output_type": "execute_result"
    }
   ],
   "source": [
    "#List is mutable\n",
    "#List does not support item assignemnt\n",
    "list=[1,2,3]\n",
    "#negative slicing\n",
    "list[-1] #Output is 3\n",
    "#printing list in reverse order\n",
    "list[::-1] #or list.reverse()\n",
    "#list.remove(position) or del list[position]\n",
    "#list.insert(position,what to insert) \n",
    "#list.sort() or sorted(list)"
   ]
  },
  {
   "cell_type": "code",
   "execution_count": 48,
   "id": "9d1813ad",
   "metadata": {},
   "outputs": [
    {
     "data": {
      "text/plain": [
       "[1, 2, 3, 4, 7, 8]"
      ]
     },
     "execution_count": 48,
     "metadata": {},
     "output_type": "execute_result"
    }
   ],
   "source": [
    "list.extend([7,8])\n",
    "list"
   ]
  },
  {
   "cell_type": "code",
   "execution_count": 49,
   "id": "565752cd",
   "metadata": {},
   "outputs": [
    {
     "data": {
      "text/plain": [
       "[1, 2, 3, 4, 7, 8, [7, 8]]"
      ]
     },
     "execution_count": 49,
     "metadata": {},
     "output_type": "execute_result"
    }
   ],
   "source": [
    "list.append([7,8])\n",
    "list\n",
    "for l in list:\n",
    "    print(l)"
   ]
  },
  {
   "cell_type": "code",
   "execution_count": 50,
   "id": "c48f6961",
   "metadata": {},
   "outputs": [
    {
     "name": "stdout",
     "output_type": "stream",
     "text": [
      "[34, 23, 23, 82, 23]\n",
      "Gyan has highest marks in subject B which is equal to 82.\n"
     ]
    }
   ],
   "source": [
    "#Homework 1. Find out who scored highest marks in subject B.\n",
    "students_marks=[\n",
    "                ['Name',   ['A','B','C','D','E']],\n",
    "                ['Ankit',  [41,34,45,55,63]],\n",
    "                ['Arvind', [42,23,34,44,53]],\n",
    "                ['Lakshya',[32,23,13,54,67]],\n",
    "                ['Gyan',   [23,82,23,63,34]],\n",
    "                ['Pranav', [23,23,25,56,56]]\n",
    "               ]\n",
    "ml=[]\n",
    "for i in range(1,len(students_marks)):\n",
    "   ml.append(students_marks[i][1][1])\n",
    "print(ml)\n",
    "for q in range(len(ml)):\n",
    "    if (ml[q]==max(ml)):\n",
    "        break\n",
    "print(students_marks[q+1][0] +' '+'has highest marks in subject B which is equal to' +' '+str(ml[q])+'.')"
   ]
  },
  {
   "cell_type": "code",
   "execution_count": 5,
   "id": "ba5e4d26",
   "metadata": {},
   "outputs": [
    {
     "data": {
      "text/plain": [
       "{1, 3, 'A', 'B'}"
      ]
     },
     "execution_count": 5,
     "metadata": {},
     "output_type": "execute_result"
    }
   ],
   "source": [
    "#Tuple - It is not mutable.It provides security over updation from user - ()\n",
    "#tuplename.index('') #index of an element in tuple\n",
    "#tuplename.count('') #count of an element in tuple\n",
    "#Tuple does not support item assignemnt.\n",
    "\n",
    "#Sets ignores repition of elements in it - {} . It is mutable.Set operations are applicable\n",
    "my_set={1,\"B\",3,\"A\",1}\n",
    "my_set\n",
    "#set1.intersection(set2)\n",
    "#set1.intersection_update(set2) otherwise we will not get actual intersection\n",
    "#set1.isdisjoint(set2)\n",
    "\n",
    "#list/tuple to set : my_set=set(my_list/my_tuple)\n",
    "#disard - doesnt throw error / remove-shows error if element not in set\n",
    "#my_set.discard()\n",
    "#element added to set doesn't add it to last position of list\n",
    "#Adding element to list-use my_set.update()\n"
   ]
  },
  {
   "cell_type": "code",
   "execution_count": 18,
   "id": "f4f320f7",
   "metadata": {},
   "outputs": [
    {
     "data": {
      "text/plain": [
       "{'Ketaki': 'Sister', 'Nimish': 'Brother', 'Rajesh': 'Father'}"
      ]
     },
     "execution_count": 18,
     "metadata": {},
     "output_type": "execute_result"
    }
   ],
   "source": [
    "#Dictionary: key-value pair .Dictionary keys are immutable (eg tuple)\n",
    "#Elemenst are accesed by keys\n",
    "dict={\"Ketaki\":\"Sister\",\"Nimish\":\"Brother\"}\n",
    "dict[\"Ketaki\"] #o/p- Sister\n",
    "dict.update({\"Ketaki\":\"Sister\"}) #does not add this again\n",
    "dict.update({\"Rajesh\":\"Father\"})\n",
    "dict\n",
    "del dict[\"Rajesh\"] #whole key-value pair is deleted\n",
    "#updating value in dict\n",
    "dict[\"Nimish\"]=\"Tabla Player\"\n",
    "dict[\"Manisha\"]=\"Mother\"\n",
    "#Dictionary is updated with latest value associated with key\n",
    "#Two dictionaries with same elements but different order are same.\n",
    "for key,value in dict:\n",
    "    print(Key,value)"
   ]
  },
  {
   "cell_type": "code",
   "execution_count": null,
   "id": "539c0e65",
   "metadata": {},
   "outputs": [],
   "source": []
  }
 ],
 "metadata": {
  "kernelspec": {
   "display_name": "Python 3 (ipykernel)",
   "language": "python",
   "name": "python3"
  },
  "language_info": {
   "codemirror_mode": {
    "name": "ipython",
    "version": 3
   },
   "file_extension": ".py",
   "mimetype": "text/x-python",
   "name": "python",
   "nbconvert_exporter": "python",
   "pygments_lexer": "ipython3",
   "version": "3.9.12"
  }
 },
 "nbformat": 4,
 "nbformat_minor": 5
}
